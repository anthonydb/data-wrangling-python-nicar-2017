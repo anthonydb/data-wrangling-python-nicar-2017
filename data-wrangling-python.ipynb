{
 "cells": [
  {
   "cell_type": "markdown",
   "metadata": {
    "deletable": true,
    "editable": true
   },
   "source": [
    "# Data Wrangling with Python\n",
    "### Anthony DeBarros, NICAR 2017 | @anthonydb"
   ]
  },
  {
   "cell_type": "markdown",
   "metadata": {
    "deletable": true,
    "editable": true
   },
   "source": [
    "##### Among the most unspectacular but necessary tasks in data analysis is reading, transforming, and saving data. You can get a lot done with the Python standard library, and do even more cool things with libraries such as agate. We are going to try sending data back and forth among formats, particularly CSV and JSON, and transforming it along the way.\n",
    "***"
   ]
  },
  {
   "cell_type": "markdown",
   "metadata": {
    "deletable": true,
    "editable": true
   },
   "source": [
    "### 1. Open and Transform a CSV using the Python standard library"
   ]
  },
  {
   "cell_type": "markdown",
   "metadata": {
    "deletable": true,
    "editable": true
   },
   "source": [
    "### Using csv.reader"
   ]
  },
  {
   "cell_type": "code",
   "execution_count": null,
   "metadata": {
    "collapsed": false,
    "deletable": true,
    "editable": true
   },
   "outputs": [],
   "source": [
    "# Import the csv module\n",
    "\n",
    "import csv"
   ]
  },
  {
   "cell_type": "code",
   "execution_count": null,
   "metadata": {
    "collapsed": false,
    "deletable": true,
    "editable": true
   },
   "outputs": [],
   "source": [
    "# Open a file and use the reader function to display each line\n",
    "# file_reader is an iterable reader object\n",
    "# Each line in the file becomes a Python list\n",
    "\n",
    "with open('us_counties_2010.csv') as csv_file:\n",
    "    file_reader = csv.reader(csv_file)\n",
    "    for row in file_reader:\n",
    "        print(','.join(row))"
   ]
  },
  {
   "cell_type": "code",
   "execution_count": null,
   "metadata": {
    "collapsed": true,
    "deletable": true,
    "editable": true
   },
   "outputs": [],
   "source": [
    "# Because each line is a list, we can call specific elements\n",
    "\n",
    "with open('us_counties_2010.csv') as csv_file:\n",
    "    file_reader = csv.reader(csv_file)\n",
    "    for row in file_reader:\n",
    "        print(row[0] + ',' + row[1] + ',' + row[9])"
   ]
  },
  {
   "cell_type": "code",
   "execution_count": null,
   "metadata": {
    "collapsed": false,
    "deletable": true,
    "editable": true
   },
   "outputs": [],
   "source": [
    "# We also can slice the reader object with itertools.islice() to remove\n",
    "# the header and just fetch a few rows.\n",
    "\n",
    "from itertools import islice\n",
    "\n",
    "with open('us_counties_2010.csv') as csv_file:\n",
    "    file_reader = csv.reader(csv_file)\n",
    "    for row in islice(file_reader, 1, 4):\n",
    "        print(row[0] + ',' + row[1] + ',' + row[9])"
   ]
  },
  {
   "cell_type": "markdown",
   "metadata": {
    "deletable": true,
    "editable": true
   },
   "source": [
    "### Using csv.DictReader"
   ]
  },
  {
   "cell_type": "code",
   "execution_count": null,
   "metadata": {
    "collapsed": false,
    "deletable": true,
    "editable": true
   },
   "outputs": [],
   "source": [
    "# DictReader creates a reader object where each row is an ordered dictionary\n",
    "# with keys taken from the header row.\n",
    "\n",
    "with open('us_counties_2010.csv') as csv_file:\n",
    "    file_reader = csv.DictReader(csv_file)\n",
    "    for row in islice(file_reader, 1, 4):\n",
    "        print(row)\n",
    "        "
   ]
  },
  {
   "cell_type": "code",
   "execution_count": null,
   "metadata": {
    "collapsed": false,
    "deletable": true,
    "editable": true
   },
   "outputs": [],
   "source": [
    "# Then, we can pull elements of each line via their key.\n",
    "\n",
    "with open('us_counties_2010.csv') as csv_file:\n",
    "    file_reader = csv.DictReader(csv_file)\n",
    "    for row in islice(file_reader, 1, 4):\n",
    "        print(row['NAME'] + ',' + row['STUSAB'] + ',' + row['POP100'])\n",
    "        "
   ]
  },
  {
   "cell_type": "markdown",
   "metadata": {
    "deletable": true,
    "editable": true
   },
   "source": [
    "### 2. Turning Your CSV into JSON"
   ]
  },
  {
   "cell_type": "code",
   "execution_count": null,
   "metadata": {
    "collapsed": false,
    "deletable": true,
    "editable": true
   },
   "outputs": [],
   "source": [
    "# Dictionaries and lists are easily transformed to JSON.\n",
    "\n",
    "\n",
    "import json\n",
    "import collections\n",
    "\n",
    "# Define an empty list of dictionaries. Each dict will hold data on one state.\n",
    "state_pop_list = []\n",
    "\n",
    "# Open and read the CSV.\n",
    "with open('us_counties_2010.csv') as csv_file:\n",
    "    file_reader = csv.DictReader(csv_file)\n",
    "\n",
    "    # Turn each row into an ordered dictionary\n",
    "    for row in islice(file_reader, 1, 4):\n",
    "        state_dict = collections.OrderedDict()\n",
    "        state_dict['cty'] = row['NAME']\n",
    "        state_dict['st'] = row['STUSAB']\n",
    "        state_dict['pop2010'] = int(row['POP100'])\n",
    "        # Append the dictionary to the list\n",
    "        state_pop_list.append(state_dict)\n",
    "\n",
    "# Use the json library to format the list of dicts as JSON and print.        \n",
    "print(json.dumps(state_pop_list, indent=4))\n"
   ]
  },
  {
   "cell_type": "code",
   "execution_count": null,
   "metadata": {
    "collapsed": true,
    "deletable": true,
    "editable": true
   },
   "outputs": [],
   "source": [
    "# Write the results to a file.\n",
    "json_out = json.dumps(state_pop_list)\n",
    "\n",
    "with open('us_counties_2010.json', 'w') as j:\n",
    "    j.write(json_out)\n"
   ]
  },
  {
   "cell_type": "markdown",
   "metadata": {
    "deletable": true,
    "editable": true
   },
   "source": [
    "### 3. Reading JSON from an API and Transforming to CSV"
   ]
  },
  {
   "cell_type": "code",
   "execution_count": null,
   "metadata": {
    "collapsed": true,
    "deletable": true,
    "editable": true
   },
   "outputs": [],
   "source": [
    "import requests\n",
    "\n",
    "earthquake_geojson_url = 'http://earthquake.usgs.gov/fdsnws/event/1/query?format=geojson&starttime=2017-02-25&endtime=2017-02-26'\n",
    "r = requests.get(earthquake_geojson_url)\n",
    "print(r.text)\n"
   ]
  },
  {
   "cell_type": "code",
   "execution_count": null,
   "metadata": {
    "collapsed": true,
    "deletable": true,
    "editable": true
   },
   "outputs": [],
   "source": [
    "response = json.loads(r.text)\n",
    "print(response['features'][0]['properties']['place'])"
   ]
  },
  {
   "cell_type": "code",
   "execution_count": null,
   "metadata": {
    "collapsed": true,
    "deletable": true,
    "editable": true
   },
   "outputs": [],
   "source": [
    "for i in range(0,20):\n",
    "    print(response['features'][i]['properties']['place'])"
   ]
  },
  {
   "cell_type": "code",
   "execution_count": null,
   "metadata": {
    "collapsed": true,
    "deletable": true,
    "editable": true
   },
   "outputs": [],
   "source": [
    "# open and prep file\n",
    "earthquakes = open('earthquakes.csv', 'w')\n",
    "quake_writer = csv.writer(earthquakes, delimiter=\",\")\n",
    "headers = ['PLACE', 'MAGNITUDE']\n",
    "quake_writer.writerow(headers)\n",
    "\n",
    "for i in range(0,20):\n",
    "    place = response['features'][i]['properties']['place']\n",
    "    mag = response['features'][i]['properties']['mag']\n",
    "    quake = (place, mag)\n",
    "    quake_writer.writerow(quake)\n",
    "    \n",
    "earthquakes.close()"
   ]
  },
  {
   "cell_type": "markdown",
   "metadata": {
    "deletable": true,
    "editable": true
   },
   "source": [
    "### 4. Using the agate Library to Read a CSV, Calculate Stats, and Save as JSON"
   ]
  },
  {
   "cell_type": "code",
   "execution_count": null,
   "metadata": {
    "collapsed": false,
    "deletable": true,
    "editable": true,
    "slideshow": {
     "slide_type": "-"
    }
   },
   "outputs": [],
   "source": [
    "# Ignore deprecation warnings if they crop up\n",
    "import warnings\n",
    "warnings.filterwarnings('ignore')"
   ]
  },
  {
   "cell_type": "code",
   "execution_count": null,
   "metadata": {
    "collapsed": true,
    "deletable": true,
    "editable": true
   },
   "outputs": [],
   "source": [
    "# Import the agate library\n",
    "import agate"
   ]
  },
  {
   "cell_type": "code",
   "execution_count": null,
   "metadata": {
    "collapsed": true,
    "deletable": true,
    "editable": true
   },
   "outputs": [],
   "source": [
    "# Use agate's from_csv method to load a CSV to a table object\n",
    "us_counties = agate.Table.from_csv('us_counties_2010.csv')"
   ]
  },
  {
   "cell_type": "code",
   "execution_count": null,
   "metadata": {
    "collapsed": false,
    "deletable": true,
    "editable": true
   },
   "outputs": [],
   "source": [
    "# Now we have a table object\n",
    "us_counties"
   ]
  },
  {
   "cell_type": "code",
   "execution_count": null,
   "metadata": {
    "collapsed": false,
    "deletable": true,
    "editable": true
   },
   "outputs": [],
   "source": [
    "# We can view its structure with print()\n",
    "print(us_counties)"
   ]
  },
  {
   "cell_type": "code",
   "execution_count": null,
   "metadata": {
    "collapsed": true,
    "deletable": true,
    "editable": true
   },
   "outputs": [],
   "source": [
    "# Change data types of columns if needed\n",
    "specified_types = {\n",
    "    'SUMLEV': agate.Text(),\n",
    "    'REGION': agate.Text(),\n",
    "    'DIVISION': agate.Text(),\n",
    "    'STATE': agate.Text(),\n",
    "    'COUNTY': agate.Text()    \n",
    "}\n",
    "us_counties = agate.Table.from_csv('us_counties_2010.csv', column_types=specified_types)"
   ]
  },
  {
   "cell_type": "code",
   "execution_count": null,
   "metadata": {
    "collapsed": false,
    "deletable": true,
    "editable": true
   },
   "outputs": [],
   "source": [
    "print(us_counties)"
   ]
  },
  {
   "cell_type": "code",
   "execution_count": null,
   "metadata": {
    "collapsed": false,
    "deletable": true,
    "editable": true
   },
   "outputs": [],
   "source": [
    "# Viewing table contents\n",
    "us_counties.print_table(max_rows = 10, max_columns = 9)"
   ]
  },
  {
   "cell_type": "code",
   "execution_count": null,
   "metadata": {
    "collapsed": true,
    "deletable": true,
    "editable": true
   },
   "outputs": [],
   "source": [
    "# Similar to a SQL SELECT, we can create a new table with a subset of columns\n",
    "columns = ['STUSAB', 'POP100']\n",
    "state_pop_table = us_counties.select(columns)"
   ]
  },
  {
   "cell_type": "code",
   "execution_count": null,
   "metadata": {
    "collapsed": false,
    "deletable": true,
    "editable": true
   },
   "outputs": [],
   "source": [
    "print(state_pop_table)"
   ]
  },
  {
   "cell_type": "code",
   "execution_count": null,
   "metadata": {
    "collapsed": true,
    "deletable": true,
    "editable": true
   },
   "outputs": [],
   "source": [
    "# Let's create a table of states with the total and median population\n",
    "states = state_pop_table.group_by('STUSAB')\n",
    "state_pop = states.aggregate([\n",
    "    ('total_pop', agate.Sum('POP100')),\n",
    "    ('median_pop', agate.Median('POP100'))\n",
    "])"
   ]
  },
  {
   "cell_type": "code",
   "execution_count": null,
   "metadata": {
    "collapsed": false,
    "deletable": true,
    "editable": true
   },
   "outputs": [],
   "source": [
    "# Take a look at the results\n",
    "for row in state_pop.rows:\n",
    "    print(row['STUSAB'], row['total_pop'], row['median_pop'])"
   ]
  },
  {
   "cell_type": "code",
   "execution_count": null,
   "metadata": {
    "collapsed": false,
    "deletable": true,
    "editable": true
   },
   "outputs": [],
   "source": [
    "state_pop.print_table(max_rows=51)"
   ]
  },
  {
   "cell_type": "code",
   "execution_count": null,
   "metadata": {
    "collapsed": true,
    "deletable": true,
    "editable": true
   },
   "outputs": [],
   "source": [
    "# Save this is a CSV\n",
    "state_pop.to_csv('state_pop.csv')"
   ]
  },
  {
   "cell_type": "code",
   "execution_count": null,
   "metadata": {
    "collapsed": true,
    "deletable": true,
    "editable": true
   },
   "outputs": [],
   "source": [
    "# Or save it as JSON\n",
    "state_pop.to_json('state_pop.json')"
   ]
  },
  {
   "cell_type": "markdown",
   "metadata": {
    "collapsed": true,
    "deletable": true,
    "editable": true
   },
   "source": [
    "### 5. Using csvkit to Prep for Database Import"
   ]
  },
  {
   "cell_type": "code",
   "execution_count": null,
   "metadata": {
    "collapsed": true,
    "deletable": true,
    "editable": true
   },
   "outputs": [],
   "source": []
  }
 ],
 "metadata": {
  "kernelspec": {
   "display_name": "Python 3",
   "language": "python",
   "name": "python3"
  },
  "language_info": {
   "codemirror_mode": {
    "name": "ipython",
    "version": 3
   },
   "file_extension": ".py",
   "mimetype": "text/x-python",
   "name": "python",
   "nbconvert_exporter": "python",
   "pygments_lexer": "ipython3",
   "version": "3.6.0"
  }
 },
 "nbformat": 4,
 "nbformat_minor": 2
}
